{
 "cells": [
  {
   "cell_type": "code",
   "execution_count": null,
   "metadata": {},
   "outputs": [],
   "source": [
    "import numpy as np\n",
    "import matplotlib.pyplot as plt\n",
    "from scipy import ndimage\n",
    "from scipy import signal\n",
    "from scipy.fftpack import fft2, ifft2, fftshift\n",
    "from skimage import filters, feature, transform\n",
    "import mrcfile\n",
    "#import multiprocessing\n",
    "from functools import partial\n",
    "from joblib import Parallel, delayed"
   ]
  },
  {
   "cell_type": "markdown",
   "metadata": {},
   "source": [
    "# For demo"
   ]
  },
  {
   "cell_type": "raw",
   "metadata": {
    "vscode": {
     "languageId": "raw"
    }
   },
   "source": [
    "# Synthetic Cryo-EM micrograph (noisy image with particles)\n",
    "image_size = 256\n",
    "np.random.seed(0)\n",
    "I = np.random.normal(loc=0.0, scale=1.0, size=(image_size, image_size))\n",
    "\n",
    "# Synthetic template (e.g., a Gaussian blob)\n",
    "template_size = 32\n",
    "x = np.linspace(-3, 3, template_size)\n",
    "y = np.linspace(-3, 3, template_size)\n",
    "x, y = np.meshgrid(x, y)\n",
    "T = np.exp(-(x**2 + y**2))\n",
    "\n",
    "# Insert a few instances of the template into the image at random positions\n",
    "num_particles = 5\n",
    "positions = np.random.randint(0, image_size - template_size, size=(num_particles, 2))\n",
    "for pos in positions:\n",
    "    I[pos[0]:pos[0]+template_size, pos[1]:pos[1]+template_size] += T\n",
    "\n",
    "# Display the synthetic image\n",
    "plt.figure(figsize=(6,6))\n",
    "plt.imshow(I, cmap='gray')\n",
    "plt.title('Synthetic Cryo-EM Micrograph')\n",
    "plt.axis('off')\n",
    "plt.show()"
   ]
  },
  {
   "cell_type": "code",
   "execution_count": null,
   "metadata": {},
   "outputs": [],
   "source": [
    "with mrcfile.open('0_data/00040_3_0.mrc', permissive=True) as mrc:\n",
    "    I = np.squeeze(mrc.data.astype(np.float32))\n",
    "\n",
    "# Display the Cryo-EM micrograph\n",
    "plt.figure(figsize=(6, 6))\n",
    "plt.imshow(I, cmap='gray')\n",
    "plt.title('Cryo-EM Micrograph')\n",
    "plt.axis('off')\n",
    "plt.show()"
   ]
  },
  {
   "cell_type": "markdown",
   "metadata": {},
   "source": [
    "# Generate templates"
   ]
  },
  {
   "cell_type": "code",
   "execution_count": null,
   "metadata": {},
   "outputs": [],
   "source": [
    "\n",
    "with mrcfile.open('projections_mpi.mrcs', permissive=True) as mrc:\n",
    "    templates = mrc.data.astype(np.float32)"
   ]
  },
  {
   "cell_type": "code",
   "execution_count": null,
   "metadata": {},
   "outputs": [],
   "source": [
    "#templates.shape\n",
    "# Display one of the templates\n",
    "template_index = 0  # Change this to view different templates\n",
    "T = templates[template_index]\n",
    "\n",
    "plt.figure(figsize=(4, 4))\n",
    "plt.imshow(T, cmap='gray')\n",
    "plt.title(f'Template Projection {template_index}')\n",
    "plt.axis('off')\n",
    "plt.show()\n",
    "print(f\"Template dimension : {templates.shape[1],templates.shape[2]}\")"
   ]
  },
  {
   "cell_type": "markdown",
   "metadata": {},
   "source": [
    "# Band pass filtering"
   ]
  },
  {
   "cell_type": "code",
   "execution_count": null,
   "metadata": {},
   "outputs": [],
   "source": [
    "# Define the band-pass filter function\n",
    "def bandpass_filter(img, low_sigma, high_sigma):\n",
    "    low_pass = ndimage.gaussian_filter(img, high_sigma)\n",
    "    high_pass = img - ndimage.gaussian_filter(img, low_sigma)\n",
    "    return high_pass - low_pass\n",
    "\n",
    "# Apply the band-pass filter to the micrograph\n",
    "I_filtered = bandpass_filter(I, low_sigma=1, high_sigma=5)\n",
    "\n",
    "# Apply the band-pass filter to each template\n",
    "T_filtered_list = []\n",
    "for T in templates:\n",
    "    T_filtered = bandpass_filter(T, low_sigma=1, high_sigma=5)\n",
    "    T_filtered_list.append(T_filtered)\n",
    "\n",
    "# For demonstration, use the first filtered template\n",
    "T_filtered = T_filtered_list[0]\n",
    "\n",
    "# Display the filtered micrograph and template\n",
    "fig, ax = plt.subplots(1, 2, figsize=(12, 6))\n",
    "ax[0].imshow(I_filtered, cmap='gray')\n",
    "ax[0].set_title('Filtered Cryo-EM Micrograph')\n",
    "ax[0].axis('off')\n",
    "\n",
    "ax[1].imshow(T_filtered, cmap='gray')\n",
    "ax[1].set_title('Filtered Template')\n",
    "ax[1].axis('off')\n",
    "plt.show()\n"
   ]
  },
  {
   "cell_type": "code",
   "execution_count": null,
   "metadata": {},
   "outputs": [],
   "source": [
    "# Normalize the micrograph\n",
    "I_mean = np.mean(I_filtered)\n",
    "I_std = np.std(I_filtered)\n",
    "I_norm = (I_filtered - I_mean) / I_std\n",
    "\n",
    "# Normalize each filtered template\n",
    "T_norm_list = []\n",
    "for T_filtered in T_filtered_list:\n",
    "    T_mean = np.mean(T_filtered)\n",
    "    T_std = np.std(T_filtered)\n",
    "    T_norm = (T_filtered - T_mean) / T_std\n",
    "    T_norm_list.append(T_norm)\n"
   ]
  },
  {
   "cell_type": "raw",
   "metadata": {
    "vscode": {
     "languageId": "raw"
    }
   },
   "source": [
    "# Generate rotated templates for each template projection\n",
    "rotation_angles = np.arange(0, 360, 15)  # Every 15 degrees\n",
    "templates_rotated = []\n",
    "\n",
    "for T_norm in T_norm_list:\n",
    "    for angle in rotation_angles:\n",
    "        T_rot = ndimage.rotate(T_norm, angle, reshape=False)\n",
    "        templates_rotated.append(T_rot)\n"
   ]
  },
  {
   "cell_type": "code",
   "execution_count": 64,
   "metadata": {},
   "outputs": [],
   "source": [
    "# Function to pad a template to the same size as the image\n",
    "def pad_template_to_image(template, image_shape):\n",
    "    pad_y = image_shape[0] - template.shape[0]\n",
    "    pad_x = image_shape[1] - template.shape[1]\n",
    "    pad_top = pad_y // 2\n",
    "    pad_bottom = pad_y - pad_top\n",
    "    pad_left = pad_x // 2\n",
    "    pad_right = pad_x - pad_left\n",
    "    template_padded = np.pad(template, ((pad_top, pad_bottom), (pad_left, pad_right)), mode='constant')\n",
    "    return template_padded\n",
    "\n",
    "# Pad each rotated template\n",
    "templates_padded = []\n",
    "for T_rot in templates:\n",
    "    T_padded = pad_template_to_image(T_rot, I_norm.shape)\n",
    "    templates_padded.append(T_padded)\n"
   ]
  },
  {
   "cell_type": "markdown",
   "metadata": {},
   "source": [
    "### Serial cross correlation"
   ]
  },
  {
   "cell_type": "code",
   "execution_count": 65,
   "metadata": {},
   "outputs": [
    {
     "ename": "KeyboardInterrupt",
     "evalue": "",
     "output_type": "error",
     "traceback": [
      "\u001b[0;31m---------------------------------------------------------------------------\u001b[0m",
      "\u001b[0;31mKeyboardInterrupt\u001b[0m                         Traceback (most recent call last)",
      "Cell \u001b[0;32mIn[65], line 11\u001b[0m\n\u001b[1;32m      9\u001b[0m T_fft \u001b[38;5;241m=\u001b[39m np\u001b[38;5;241m.\u001b[39mfft\u001b[38;5;241m.\u001b[39mfft2(T_padded)\n\u001b[1;32m     10\u001b[0m \u001b[38;5;66;03m# Compute cross-correlation using inverse FFT\u001b[39;00m\n\u001b[0;32m---> 11\u001b[0m corr \u001b[38;5;241m=\u001b[39m np\u001b[38;5;241m.\u001b[39mfft\u001b[38;5;241m.\u001b[39mifft2(I_fft \u001b[38;5;241m*\u001b[39m np\u001b[38;5;241m.\u001b[39mconj(T_fft))\n\u001b[1;32m     12\u001b[0m \u001b[38;5;66;03m# Take the real part (the imaginary part should be negligible)\u001b[39;00m\n\u001b[1;32m     13\u001b[0m corr \u001b[38;5;241m=\u001b[39m np\u001b[38;5;241m.\u001b[39mreal(corr)\n",
      "File \u001b[0;32m~/miniconda3/envs/py2DTM/lib/python3.11/site-packages/numpy/fft/_pocketfft.py:1107\u001b[0m, in \u001b[0;36mifft2\u001b[0;34m(a, s, axes, norm)\u001b[0m\n\u001b[1;32m   1017\u001b[0m \u001b[38;5;129m@array_function_dispatch\u001b[39m(_fftn_dispatcher)\n\u001b[1;32m   1018\u001b[0m \u001b[38;5;28;01mdef\u001b[39;00m \u001b[38;5;21mifft2\u001b[39m(a, s\u001b[38;5;241m=\u001b[39m\u001b[38;5;28;01mNone\u001b[39;00m, axes\u001b[38;5;241m=\u001b[39m(\u001b[38;5;241m-\u001b[39m\u001b[38;5;241m2\u001b[39m, \u001b[38;5;241m-\u001b[39m\u001b[38;5;241m1\u001b[39m), norm\u001b[38;5;241m=\u001b[39m\u001b[38;5;28;01mNone\u001b[39;00m):\n\u001b[1;32m   1019\u001b[0m \u001b[38;5;250m    \u001b[39m\u001b[38;5;124;03m\"\"\"\u001b[39;00m\n\u001b[1;32m   1020\u001b[0m \u001b[38;5;124;03m    Compute the 2-dimensional inverse discrete Fourier Transform.\u001b[39;00m\n\u001b[1;32m   1021\u001b[0m \n\u001b[0;32m   (...)\u001b[0m\n\u001b[1;32m   1105\u001b[0m \n\u001b[1;32m   1106\u001b[0m \u001b[38;5;124;03m    \"\"\"\u001b[39;00m\n\u001b[0;32m-> 1107\u001b[0m     \u001b[38;5;28;01mreturn\u001b[39;00m _raw_fftnd(a, s, axes, ifft, norm)\n",
      "File \u001b[0;32m~/miniconda3/envs/py2DTM/lib/python3.11/site-packages/numpy/fft/_pocketfft.py:707\u001b[0m, in \u001b[0;36m_raw_fftnd\u001b[0;34m(a, s, axes, function, norm)\u001b[0m\n\u001b[1;32m    705\u001b[0m itl\u001b[38;5;241m.\u001b[39mreverse()\n\u001b[1;32m    706\u001b[0m \u001b[38;5;28;01mfor\u001b[39;00m ii \u001b[38;5;129;01min\u001b[39;00m itl:\n\u001b[0;32m--> 707\u001b[0m     a \u001b[38;5;241m=\u001b[39m function(a, n\u001b[38;5;241m=\u001b[39ms[ii], axis\u001b[38;5;241m=\u001b[39maxes[ii], norm\u001b[38;5;241m=\u001b[39mnorm)\n\u001b[1;32m    708\u001b[0m \u001b[38;5;28;01mreturn\u001b[39;00m a\n",
      "File \u001b[0;32m~/miniconda3/envs/py2DTM/lib/python3.11/site-packages/numpy/fft/_pocketfft.py:316\u001b[0m, in \u001b[0;36mifft\u001b[0;34m(a, n, axis, norm)\u001b[0m\n\u001b[1;32m    314\u001b[0m     n \u001b[38;5;241m=\u001b[39m a\u001b[38;5;241m.\u001b[39mshape[axis]\n\u001b[1;32m    315\u001b[0m inv_norm \u001b[38;5;241m=\u001b[39m _get_backward_norm(n, norm)\n\u001b[0;32m--> 316\u001b[0m output \u001b[38;5;241m=\u001b[39m _raw_fft(a, n, axis, \u001b[38;5;28;01mFalse\u001b[39;00m, \u001b[38;5;28;01mFalse\u001b[39;00m, inv_norm)\n\u001b[1;32m    317\u001b[0m \u001b[38;5;28;01mreturn\u001b[39;00m output\n",
      "File \u001b[0;32m~/miniconda3/envs/py2DTM/lib/python3.11/site-packages/numpy/fft/_pocketfft.py:73\u001b[0m, in \u001b[0;36m_raw_fft\u001b[0;34m(a, n, axis, is_real, is_forward, inv_norm)\u001b[0m\n\u001b[1;32m     71\u001b[0m \u001b[38;5;28;01melse\u001b[39;00m:\n\u001b[1;32m     72\u001b[0m     a \u001b[38;5;241m=\u001b[39m swapaxes(a, axis, \u001b[38;5;241m-\u001b[39m\u001b[38;5;241m1\u001b[39m)\n\u001b[0;32m---> 73\u001b[0m     r \u001b[38;5;241m=\u001b[39m pfi\u001b[38;5;241m.\u001b[39mexecute(a, is_real, is_forward, fct)\n\u001b[1;32m     74\u001b[0m     r \u001b[38;5;241m=\u001b[39m swapaxes(r, axis, \u001b[38;5;241m-\u001b[39m\u001b[38;5;241m1\u001b[39m)\n\u001b[1;32m     75\u001b[0m \u001b[38;5;28;01mreturn\u001b[39;00m r\n",
      "\u001b[0;31mKeyboardInterrupt\u001b[0m: "
     ]
    }
   ],
   "source": [
    "# Perform cross-correlation with each padded template\n",
    "correlation_maps = []\n",
    "\n",
    "# Precompute the FFT of the normalized micrograph\n",
    "I_fft = np.fft.fft2(I_norm)\n",
    "\n",
    "for idx, T_padded in enumerate(templates_padded):\n",
    "    # Compute FFT of the padded template\n",
    "    T_fft = np.fft.fft2(T_padded)\n",
    "    # Compute cross-correlation using inverse FFT\n",
    "    corr = np.fft.ifft2(I_fft * np.conj(T_fft))\n",
    "    # Take the real part (the imaginary part should be negligible)\n",
    "    corr = np.real(corr)\n",
    "    # Normalize the correlation map\n",
    "    corr_mean = np.mean(corr)\n",
    "    corr_std = np.std(corr)\n",
    "    corr_norm = (corr - corr_mean) / corr_std\n",
    "    correlation_maps.append(corr_norm)\n"
   ]
  },
  {
   "cell_type": "code",
   "execution_count": null,
   "metadata": {},
   "outputs": [],
   "source": [
    "# Aggregate the correlation maps by taking the maximum at each pixel\n",
    "NCC_max = np.max(correlation_maps, axis=0)\n",
    "\n",
    "# Display the aggregated cross-correlation map\n",
    "plt.figure(figsize=(6, 6))\n",
    "plt.imshow(NCC_max, cmap='jet')\n",
    "plt.title('Aggregated Normalized Cross-Correlation Map')\n",
    "plt.colorbar()\n",
    "plt.axis('off')\n",
    "plt.show()\n"
   ]
  },
  {
   "cell_type": "code",
   "execution_count": null,
   "metadata": {},
   "outputs": [],
   "source": [
    "# Aggregate the correlation maps by taking the maximum at each pixel\n",
    "NCC_max = np.max(correlation_maps, axis=0)\n",
    "\n",
    "# Display the aggregated cross-correlation map\n",
    "plt.figure(figsize=(6, 6))\n",
    "plt.imshow(NCC_max, cmap='jet')\n",
    "plt.title('Aggregated Normalized Cross-Correlation Map')\n",
    "plt.colorbar()\n",
    "plt.axis('off')\n",
    "plt.show()\n"
   ]
  },
  {
   "cell_type": "code",
   "execution_count": null,
   "metadata": {},
   "outputs": [],
   "source": [
    "# Set a threshold based on the statistics of NCC_max\n",
    "threshold = np.mean(NCC_max) + 3 * np.std(NCC_max)\n",
    "NCC_thresh = np.copy(NCC_max)\n",
    "NCC_thresh[NCC_thresh < threshold] = 0\n"
   ]
  },
  {
   "cell_type": "code",
   "execution_count": null,
   "metadata": {},
   "outputs": [],
   "source": [
    "# Estimate the size of the template for peak separation\n",
    "template_size = T.shape[0]  # Assuming square templates\n",
    "\n",
    "# Find peaks in the thresholded correlation map\n",
    "coordinates = feature.peak_local_max(\n",
    "    NCC_thresh,\n",
    "    min_distance=template_size // 2,\n",
    "    threshold_abs=threshold\n",
    ")\n",
    "\n",
    "# Display detected peaks on the original micrograph\n",
    "plt.figure(figsize=(8, 8))\n",
    "plt.imshow(I, cmap='gray')\n",
    "plt.scatter(coordinates[:, 1], coordinates[:, 0], c='r', marker='x')\n",
    "plt.title('Detected Particles')\n",
    "plt.axis('off')\n",
    "plt.show()\n"
   ]
  },
  {
   "cell_type": "code",
   "execution_count": null,
   "metadata": {},
   "outputs": [],
   "source": [
    "# Assign orientation to each detected particle\n",
    "detected_particles = []\n",
    "for coord in coordinates:\n",
    "    y, x = coord\n",
    "    # Extract the local correlation values at this coordinate for each rotated template\n",
    "    local_corrs = [corr[y, x] for corr in correlation_maps]\n",
    "    # Find the index of the maximum correlation\n",
    "    best_match_idx = np.argmax(local_corrs)\n",
    "    # Map the index back to the corresponding template and rotation angle\n",
    "    num_angles = len(rotation_angles)\n",
    "    template_idx = best_match_idx // num_angles\n",
    "    angle_idx = best_match_idx % num_angles\n",
    "    best_template = templates[template_idx]\n",
    "    best_angle = rotation_angles[angle_idx]\n",
    "    detected_particles.append({\n",
    "        'position': (x, y),\n",
    "        'template_index': template_idx,\n",
    "        'angle': best_angle\n",
    "    })\n",
    "\n",
    "# Display the results\n",
    "for idx, particle in enumerate(detected_particles):\n",
    "    print(f\"Particle {idx+1}: Position={particle['position']}, \"\n",
    "          f\"Template Index={particle['template_index']}, \"\n",
    "          f\"Orientation={particle['angle']} degrees\")\n"
   ]
  },
  {
   "cell_type": "code",
   "execution_count": null,
   "metadata": {},
   "outputs": [],
   "source": []
  }
 ],
 "metadata": {
  "kernelspec": {
   "display_name": "py2DTM",
   "language": "python",
   "name": "python3"
  },
  "language_info": {
   "codemirror_mode": {
    "name": "ipython",
    "version": 3
   },
   "file_extension": ".py",
   "mimetype": "text/x-python",
   "name": "python",
   "nbconvert_exporter": "python",
   "pygments_lexer": "ipython3",
   "version": "3.11.10"
  }
 },
 "nbformat": 4,
 "nbformat_minor": 2
}
